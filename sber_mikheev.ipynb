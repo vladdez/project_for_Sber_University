{
 "cells": [
  {
   "cell_type": "code",
   "execution_count": null,
   "metadata": {},
   "outputs": [
    {
     "name": "stdout",
     "output_type": "stream",
     "text": [
      "Requirement already satisfied: cycler==0.10.0 in c:\\users\\vladimir\\anaconda3\\lib\\site-packages (from -r requirements.txt (line 1)) (0.10.0)\n",
      "Collecting joblib==1.0.1 (from -r requirements.txt (line 2))\n",
      "  Using cached https://files.pythonhosted.org/packages/55/85/70c6602b078bd9e6f3da4f467047e906525c355a4dacd4f71b97a35d9897/joblib-1.0.1-py3-none-any.whl\n",
      "Collecting kiwisolver==1.3.1 (from -r requirements.txt (line 3))\n",
      "  Using cached https://files.pythonhosted.org/packages/6e/df/1250c32ab3b532c32a7e47c1cd240faba98f75b1b5150939b10e9bffb758/kiwisolver-1.3.1-cp36-cp36m-win_amd64.whl\n",
      "Collecting matplotlib==3.4.2 (from -r requirements.txt (line 4))\n"
     ]
    },
    {
     "name": "stderr",
     "output_type": "stream",
     "text": [
      "  Could not find a version that satisfies the requirement matplotlib==3.4.2 (from -r requirements.txt (line 4)) (from versions: 0.86, 0.86.1, 0.86.2, 0.91.0, 0.91.1, 1.0.1, 1.1.0, 1.1.1, 1.2.0, 1.2.1, 1.3.0, 1.3.1, 1.4.0, 1.4.1rc1, 1.4.1, 1.4.2, 1.4.3, 1.5.0, 1.5.1, 1.5.2, 1.5.3, 2.0.0b1, 2.0.0b2, 2.0.0b3, 2.0.0b4, 2.0.0rc1, 2.0.0rc2, 2.0.0, 2.0.1, 2.0.2, 2.1.0rc1, 2.1.0, 2.1.1, 2.1.2, 2.2.0rc1, 2.2.0, 2.2.2, 2.2.3, 2.2.4, 2.2.5, 3.0.0rc2, 3.0.0, 3.0.1, 3.0.2, 3.0.3, 3.1.0rc1, 3.1.0rc2, 3.1.0, 3.1.1, 3.1.2, 3.1.3, 3.2.0rc1, 3.2.0rc3, 3.2.0, 3.2.1, 3.2.2, 3.3.0rc1, 3.3.0, 3.3.1, 3.3.2, 3.3.3, 3.3.4)\n",
      "No matching distribution found for matplotlib==3.4.2 (from -r requirements.txt (line 4))\n",
      "You are using pip version 19.0.1, however version 21.1.2 is available.\n",
      "You should consider upgrading via the 'python -m pip install --upgrade pip' command.\n"
     ]
    },
    {
     "name": "stdout",
     "output_type": "stream",
     "text": [
      "Requirement already satisfied: statsmodels in c:\\users\\vladimir\\anaconda3\\lib\\site-packages (0.9.0)\n"
     ]
    },
    {
     "name": "stderr",
     "output_type": "stream",
     "text": [
      "You are using pip version 19.0.1, however version 21.1.2 is available.\n",
      "You should consider upgrading via the 'python -m pip install --upgrade pip' command.\n"
     ]
    }
   ],
   "source": [
    "!python -m pip install -r requirements.txt\n",
    "!pip install statsmodels\n",
    "!pip install -U seaborn"
   ]
  },
  {
   "cell_type": "code",
   "execution_count": 1,
   "metadata": {},
   "outputs": [
    {
     "name": "stdout",
     "output_type": "stream",
     "text": [
      "Package                            Version    \n",
      "---------------------------------- -----------\n",
      "alabaster                          0.7.10     \n",
      "anaconda-client                    1.6.14     \n",
      "anaconda-navigator                 1.9.7      \n",
      "anaconda-project                   0.8.2      \n",
      "appdirs                            1.4.3      \n",
      "arabic-reshaper                    2.0.14     \n",
      "asn1crypto                         0.24.0     \n",
      "astroid                            1.6.3      \n",
      "astropy                            3.0.2      \n",
      "astunparse                         1.6.2      \n",
      "attrs                              18.1.0     \n",
      "Babel                              2.5.3      \n",
      "backcall                           0.1.0      \n",
      "backports.shutil-get-terminal-size 1.0.0      \n",
      "beautifulsoup4                     4.6.0      \n",
      "bitarray                           0.8.1      \n",
      "bkcharts                           0.2        \n",
      "blaze                              0.11.3     \n",
      "bleach                             2.1.3      \n",
      "bokeh                              0.12.16    \n",
      "boto                               2.48.0     \n",
      "Bottleneck                         1.2.1      \n",
      "certifi                            2018.4.16  \n",
      "cffi                               1.11.5     \n",
      "chardet                            3.0.4      \n",
      "click                              6.7        \n",
      "cloudpickle                        0.5.3      \n",
      "clyent                             1.2.2      \n",
      "colorama                           0.4.1      \n",
      "comtypes                           1.1.4      \n",
      "conda                              4.6.14     \n",
      "conda-build                        3.10.5     \n",
      "conda-verify                       2.0.0      \n",
      "configobj                          5.0.6      \n",
      "configparser                       3.7.3      \n",
      "contextlib2                        0.5.5      \n",
      "coverage                           4.5.3      \n",
      "cryptography                       2.2.2      \n",
      "cycler                             0.10.0     \n",
      "Cython                             0.28.2     \n",
      "cytoolz                            0.9.0.1    \n",
      "dask                               0.17.5     \n",
      "datashape                          0.5.4      \n",
      "decorator                          4.4.0      \n",
      "distributed                        1.21.8     \n",
      "docutils                           0.14       \n",
      "entrypoints                        0.2.3      \n",
      "esprima                            4.0.1      \n",
      "et-xmlfile                         1.0.1      \n",
      "fastcache                          1.0.2      \n",
      "filelock                           3.0.4      \n",
      "Flask                              1.0.2      \n",
      "Flask-Cors                         3.0.4      \n",
      "freetype-py                        2.1.0.post1\n",
      "future                             0.17.1     \n",
      "gevent                             1.3.0      \n",
      "gitdb2                             2.0.5      \n",
      "GitPython                          2.1.11     \n",
      "glob2                              0.6        \n",
      "greenlet                           0.4.13     \n",
      "h5py                               2.7.1      \n",
      "heapdict                           1.0.0      \n",
      "html5lib                           1.0.1      \n",
      "idna                               2.6        \n",
      "imageio                            2.3.0      \n",
      "imageio-ffmpeg                     0.2.0      \n",
      "imagesize                          1.0.0      \n",
      "ipykernel                          4.8.2      \n",
      "ipython                            7.4.0      \n",
      "ipython-genutils                   0.2.0      \n",
      "ipywidgets                         7.2.1      \n",
      "isort                              4.3.4      \n",
      "itsdangerous                       0.24       \n",
      "jdcal                              1.4        \n",
      "jedi                               0.13.3     \n",
      "Jinja2                             2.10       \n",
      "json-tricks                        3.13.0     \n",
      "jsonschema                         2.6.0      \n",
      "jupyter                            1.0.0      \n",
      "jupyter-client                     5.2.3      \n",
      "jupyter-console                    5.2.0      \n",
      "jupyter-core                       4.4.0      \n",
      "jupyterlab                         0.32.1     \n",
      "jupyterlab-launcher                0.10.5     \n",
      "kiwisolver                         1.0.1      \n",
      "lazy-object-proxy                  1.3.1      \n",
      "llvmlite                           0.23.1     \n",
      "locket                             0.2.0      \n",
      "lxml                               4.2.1      \n",
      "MarkupSafe                         1.0        \n",
      "matplotlib                         2.2.2      \n",
      "mccabe                             0.6.1      \n",
      "menuinst                           1.4.14     \n",
      "mistune                            0.8.3      \n",
      "mkl-fft                            1.0.0      \n",
      "mkl-random                         1.0.1      \n",
      "Mopidy                             2.1.0      \n",
      "Mopidy-Iris                        3.28.1     \n",
      "Mopidy-Local-Images                1.0.0      \n",
      "more-itertools                     4.1.0      \n",
      "mpmath                             1.0.0      \n",
      "msgpack                            0.6.1      \n",
      "msgpack-numpy                      0.4.4.2    \n",
      "msgpack-python                     0.5.6      \n",
      "multipledispatch                   0.5.0      \n",
      "mysql-connector-python             8.0.19     \n",
      "navigator-updater                  0.2.1      \n",
      "nbconvert                          5.3.1      \n",
      "nbformat                           4.4.0      \n",
      "networkx                           2.1        \n",
      "nltk                               3.3        \n",
      "nose                               1.3.7      \n",
      "notebook                           5.5.0      \n",
      "numba                              0.38.0     \n",
      "numexpr                            2.6.5      \n",
      "numpy                              1.14.3     \n",
      "numpydoc                           0.8.0      \n",
      "odo                                0.5.1      \n",
      "olefile                            0.45.1     \n",
      "openpyxl                           2.5.3      \n",
      "packaging                          17.1       \n",
      "pandas                             0.23.0     \n",
      "pandocfilters                      1.4.2      \n",
      "parso                              0.3.4      \n",
      "partd                              0.3.8      \n",
      "path.py                            11.0.1     \n",
      "pathlib2                           2.3.2      \n",
      "patsy                              0.5.0      \n",
      "pep8                               1.7.1      \n",
      "pickleshare                        0.7.5      \n",
      "Pillow                             5.1.0      \n",
      "pip                                19.0.1     \n",
      "pkginfo                            1.4.2      \n",
      "plotly                             3.8.1      \n",
      "pluggy                             0.6.0      \n",
      "ply                                3.11       \n",
      "proglog                            0.1.9      \n",
      "prompt-toolkit                     2.0.9      \n",
      "psutil                             5.4.5      \n",
      "psychopy-ext                       0.6.0.4    \n",
      "py                                 1.5.3      \n",
      "pycodestyle                        2.4.0      \n",
      "pycosat                            0.6.3      \n",
      "pycparser                          2.18       \n",
      "pycrypto                           2.6.1      \n",
      "pycurl                             7.43.0.1   \n",
      "pyflakes                           1.6.0      \n",
      "pygame                             1.9.4      \n",
      "pyglet                             1.3.2      \n",
      "Pygments                           2.3.1      \n",
      "Pykka                              1.2.1      \n",
      "pylast                             2.4.0      \n",
      "pylint                             1.8.4      \n",
      "pyodbc                             4.0.23     \n",
      "PyOpenGL                           3.1.0      \n",
      "pyOpenSSL                          18.0.0     \n",
      "pyosf                              1.0.5      \n",
      "pyparsing                          2.2.0      \n",
      "pypiwin32                          223        \n",
      "pyqmix                             2018.12.13 \n",
      "pyserial                           3.4        \n",
      "PySocks                            1.6.8      \n",
      "pytest                             3.5.1      \n",
      "pytest-arraydiff                   0.2        \n",
      "pytest-astropy                     0.3.0      \n",
      "pytest-doctestplus                 0.1.3      \n",
      "pytest-openfiles                   0.3.0      \n",
      "pytest-remotedata                  0.2.1      \n",
      "python-bidi                        0.4.0      \n",
      "python-dateutil                    2.7.3      \n",
      "python-gitlab                      1.8.0      \n",
      "python-pygaze                      0.6.0a25   \n",
      "pytz                               2018.4     \n",
      "PyWavelets                         0.5.2      \n",
      "pywin32                            223        \n",
      "pyWinhook                          1.6.1      \n",
      "pywinpty                           0.5.1      \n",
      "PyYAML                             3.12       \n",
      "pyzmq                              17.0.0     \n",
      "QtAwesome                          0.4.4      \n",
      "qtconsole                          4.3.1      \n",
      "QtPy                               1.4.1      \n",
      "requests                           2.18.4     \n",
      "retrying                           1.3.3      \n",
      "rope                               0.10.7     \n",
      "ruamel-yaml                        0.15.35    \n",
      "ruamel.yaml                        0.15.89    \n",
      "scikit-image                       0.13.1     \n",
      "scikit-learn                       0.19.1     \n",
      "scipy                              1.1.0      \n",
      "seaborn                            0.8.1      \n",
      "Send2Trash                         1.5.0      \n",
      "setuptools                         40.8.0     \n",
      "simplegeneric                      0.8.1      \n",
      "singledispatch                     3.4.0.3    \n",
      "six                                1.12.0     \n",
      "sklearn                            0.0        \n",
      "smmap2                             2.0.5      \n",
      "snowballstemmer                    1.2.1      \n",
      "sortedcollections                  0.6.1      \n",
      "sortedcontainers                   1.5.10     \n",
      "sounddevice                        0.3.13     \n",
      "SoundFile                          0.10.2     \n",
      "Sphinx                             1.7.4      \n",
      "sphinxcontrib-websupport           1.0.1      \n",
      "spyder                             3.2.8      \n",
      "SQLAlchemy                         1.2.7      \n",
      "statsmodels                        0.9.0      \n",
      "sympy                              1.1.1      \n",
      "tables                             3.4.3      \n",
      "tblib                              1.3.2      \n",
      "terminado                          0.8.1      \n",
      "testpath                           0.3.1      \n",
      "toolz                              0.9.0      \n",
      "torchvision                        0.2.1      \n",
      "tornado                            4.5.3      \n",
      "tqdm                               4.29.1     \n",
      "traitlets                          4.3.2      \n",
      "typing                             3.6.4      \n",
      "unicodecsv                         0.14.1     \n",
      "uritools                           2.2.0      \n",
      "urllib3                            1.22       \n",
      "wcwidth                            0.1.7      \n",
      "webencodings                       0.5.1      \n",
      "Werkzeug                           0.14.1     \n",
      "wheel                              0.31.1     \n",
      "widgetsnbextension                 3.2.1      \n",
      "win-inet-pton                      1.0.1      \n",
      "win-unicode-console                0.5        \n",
      "wincertstore                       0.2        \n",
      "wrapt                              1.10.11    \n",
      "wxPython                           4.0.4      \n",
      "xlrd                               1.1.0      \n",
      "XlsxWriter                         1.0.4      \n",
      "xlwings                            0.11.8     \n",
      "xlwt                               1.3.0      \n",
      "zict                               0.1.3      \n"
     ]
    },
    {
     "name": "stderr",
     "output_type": "stream",
     "text": [
      "You are using pip version 19.0.1, however version 21.1.2 is available.\n",
      "You should consider upgrading via the 'python -m pip install --upgrade pip' command.\n"
     ]
    }
   ],
   "source": [
    "!pip list\n",
    "\n"
   ]
  },
  {
   "cell_type": "code",
   "execution_count": 1,
   "metadata": {},
   "outputs": [],
   "source": [
    "import sys \n",
    "import numpy as np\n",
    "import pandas as pd\n",
    "import seaborn as sns\n",
    "import matplotlib.pyplot as plt\n",
    "\n"
   ]
  },
  {
   "cell_type": "code",
   "execution_count": 2,
   "metadata": {},
   "outputs": [],
   "source": [
    "from sklearn.cluster import KMeans\n",
    "from sklearn.linear_model import LogisticRegression\n",
    "from sklearn.metrics import classification_report, confusion_matrix\n",
    "import statsmodels.api as sm"
   ]
  },
  {
   "cell_type": "markdown",
   "metadata": {},
   "source": [
    "## Загрузка данных"
   ]
  },
  {
   "cell_type": "markdown",
   "metadata": {},
   "source": [
    "Здесь данные пользователей онлайн-курсов. Все студенты сдали курс. \n",
    "\n",
    "Переменные:\n",
    "* 'was_pay' - была ли оплата\n",
    "* 'watch_unique' - сколько видео посмотрел на обучающей платформе\n",
    "* 'q_n' - сколько вопросов написал на форуме\n",
    "* 'ans_n' - сколько ответов написал на форуме\n",
    "* 'vis_p' - сколько страниц и сколько раз посетил на форуме\n",
    "* 'duration' - длительность прохождения курса\n",
    "\n",
    "Эти переменные показывают действия студентов на сайте и описывают студентов лучше любых опросов. "
   ]
  },
  {
   "cell_type": "code",
   "execution_count": 3,
   "metadata": {},
   "outputs": [
    {
     "data": {
      "text/plain": [
       "Index(['course_id', 'hse_user_id', 'course_passing_state_id',\n",
       "       'course_grade_overall', 'course_grade_ts', 'course_membership_ts',\n",
       "       'vis_p', 'vis_b', 'course_slug', 'q_n', 'ans_n', 'watch_all',\n",
       "       'watch_unique', 'video_n', 'what_pay', 'was_pay', 'is_prog_n',\n",
       "       'is_prog_b', 'is_math_n', 'is_math_b', 'is_peer_n', 'is_peer_b',\n",
       "       'duration', 'course_name', 'lang', 'field', 'spec', 'spec_b'],\n",
       "      dtype='object')"
      ]
     },
     "execution_count": 3,
     "metadata": {},
     "output_type": "execute_result"
    }
   ],
   "source": [
    "\n",
    "with open('students.csv', 'rb') as file:\n",
    "    raw_data = pd.read_csv(file,  encoding='utf8')\n",
    "raw_data.columns"
   ]
  },
  {
   "cell_type": "code",
   "execution_count": 5,
   "metadata": {},
   "outputs": [],
   "source": [
    "\n",
    "data = raw_data.query('course_slug == \"python-osnovy-programmirovaniya\"')\n",
    "data = data[['was_pay', 'watch_unique', 'q_n', 'ans_n', 'vis_p', 'duration']].reset_index(drop=True)\n"
   ]
  },
  {
   "cell_type": "code",
   "execution_count": 5,
   "metadata": {},
   "outputs": [
    {
     "data": {
      "text/html": [
       "<div>\n",
       "<style scoped>\n",
       "    .dataframe tbody tr th:only-of-type {\n",
       "        vertical-align: middle;\n",
       "    }\n",
       "\n",
       "    .dataframe tbody tr th {\n",
       "        vertical-align: top;\n",
       "    }\n",
       "\n",
       "    .dataframe thead th {\n",
       "        text-align: right;\n",
       "    }\n",
       "</style>\n",
       "<table border=\"1\" class=\"dataframe\">\n",
       "  <thead>\n",
       "    <tr style=\"text-align: right;\">\n",
       "      <th></th>\n",
       "      <th>was_pay</th>\n",
       "      <th>watch_unique</th>\n",
       "      <th>q_n</th>\n",
       "      <th>ans_n</th>\n",
       "      <th>vis_p</th>\n",
       "      <th>duration</th>\n",
       "    </tr>\n",
       "  </thead>\n",
       "  <tbody>\n",
       "    <tr>\n",
       "      <th>0</th>\n",
       "      <td>0</td>\n",
       "      <td>1</td>\n",
       "      <td>0</td>\n",
       "      <td>0</td>\n",
       "      <td>70</td>\n",
       "      <td>69.0</td>\n",
       "    </tr>\n",
       "    <tr>\n",
       "      <th>1</th>\n",
       "      <td>0</td>\n",
       "      <td>56</td>\n",
       "      <td>0</td>\n",
       "      <td>0</td>\n",
       "      <td>803</td>\n",
       "      <td>563.0</td>\n",
       "    </tr>\n",
       "    <tr>\n",
       "      <th>2</th>\n",
       "      <td>1</td>\n",
       "      <td>50</td>\n",
       "      <td>0</td>\n",
       "      <td>0</td>\n",
       "      <td>981</td>\n",
       "      <td>693.0</td>\n",
       "    </tr>\n",
       "    <tr>\n",
       "      <th>3</th>\n",
       "      <td>0</td>\n",
       "      <td>45</td>\n",
       "      <td>0</td>\n",
       "      <td>5</td>\n",
       "      <td>353</td>\n",
       "      <td>40.0</td>\n",
       "    </tr>\n",
       "    <tr>\n",
       "      <th>4</th>\n",
       "      <td>1</td>\n",
       "      <td>55</td>\n",
       "      <td>0</td>\n",
       "      <td>0</td>\n",
       "      <td>299</td>\n",
       "      <td>54.0</td>\n",
       "    </tr>\n",
       "    <tr>\n",
       "      <th>5</th>\n",
       "      <td>1</td>\n",
       "      <td>44</td>\n",
       "      <td>0</td>\n",
       "      <td>0</td>\n",
       "      <td>809</td>\n",
       "      <td>30.0</td>\n",
       "    </tr>\n",
       "    <tr>\n",
       "      <th>6</th>\n",
       "      <td>0</td>\n",
       "      <td>59</td>\n",
       "      <td>0</td>\n",
       "      <td>0</td>\n",
       "      <td>404</td>\n",
       "      <td>85.0</td>\n",
       "    </tr>\n",
       "    <tr>\n",
       "      <th>7</th>\n",
       "      <td>1</td>\n",
       "      <td>10</td>\n",
       "      <td>0</td>\n",
       "      <td>0</td>\n",
       "      <td>13</td>\n",
       "      <td>304.0</td>\n",
       "    </tr>\n",
       "    <tr>\n",
       "      <th>8</th>\n",
       "      <td>1</td>\n",
       "      <td>47</td>\n",
       "      <td>2</td>\n",
       "      <td>2</td>\n",
       "      <td>581</td>\n",
       "      <td>51.0</td>\n",
       "    </tr>\n",
       "    <tr>\n",
       "      <th>9</th>\n",
       "      <td>0</td>\n",
       "      <td>54</td>\n",
       "      <td>0</td>\n",
       "      <td>0</td>\n",
       "      <td>792</td>\n",
       "      <td>122.0</td>\n",
       "    </tr>\n",
       "  </tbody>\n",
       "</table>\n",
       "</div>"
      ],
      "text/plain": [
       "   was_pay  watch_unique  q_n  ans_n  vis_p  duration\n",
       "0        0             1    0      0     70      69.0\n",
       "1        0            56    0      0    803     563.0\n",
       "2        1            50    0      0    981     693.0\n",
       "3        0            45    0      5    353      40.0\n",
       "4        1            55    0      0    299      54.0\n",
       "5        1            44    0      0    809      30.0\n",
       "6        0            59    0      0    404      85.0\n",
       "7        1            10    0      0     13     304.0\n",
       "8        1            47    2      2    581      51.0\n",
       "9        0            54    0      0    792     122.0"
      ]
     },
     "execution_count": 5,
     "metadata": {},
     "output_type": "execute_result"
    }
   ],
   "source": [
    "data.head(10)"
   ]
  },
  {
   "cell_type": "code",
   "execution_count": 50,
   "metadata": {},
   "outputs": [
    {
     "data": {
      "text/plain": [
       "(5962, 7)"
      ]
     },
     "execution_count": 50,
     "metadata": {},
     "output_type": "execute_result"
    }
   ],
   "source": [
    "data.shape"
   ]
  },
  {
   "cell_type": "markdown",
   "metadata": {},
   "source": [
    "## Кластеризация"
   ]
  },
  {
   "cell_type": "markdown",
   "metadata": {},
   "source": [
    "Идея: кластеризуем студентов по всем указанным выше переменным и поймем как принадлежность к кластеру влияет на вероятность оплатить курс. \n",
    "Кластер должен выявить сложный паттерн действия студента. Например, кто-то смотрит много видео и часто заходит на форум. Кто-то не смотрит много видео и частно заходит на форум. И т.д."
   ]
  },
  {
   "cell_type": "code",
   "execution_count": 6,
   "metadata": {},
   "outputs": [
    {
     "name": "stdout",
     "output_type": "stream",
     "text": [
      "[0 2 1 ... 0 1 0]\n"
     ]
    }
   ],
   "source": [
    "model = KMeans(n_clusters=4)\n",
    "model.fit(data.drop('was_pay', axis=1))\n",
    "all_predictions = model.predict(data.drop('was_pay', axis=1))\n",
    "print(all_predictions)\n",
    "\n"
   ]
  },
  {
   "cell_type": "markdown",
   "metadata": {},
   "source": [
    "## Визуализация кластеров"
   ]
  },
  {
   "cell_type": "code",
   "execution_count": 7,
   "metadata": {},
   "outputs": [],
   "source": [
    "data.loc[:,'cluster'] = pd.Series(all_predictions)"
   ]
  },
  {
   "cell_type": "code",
   "execution_count": 8,
   "metadata": {},
   "outputs": [
    {
     "data": {
      "text/plain": [
       "<seaborn.axisgrid.FacetGrid at 0x1eb5dff3cc0>"
      ]
     },
     "execution_count": 8,
     "metadata": {},
     "output_type": "execute_result"
    },
    {
     "data": {
      "image/png": "[encoded data removed]",
      "text/plain": [
       "<Figure size 561.6x216 with 4 Axes>"
      ]
     },
     "metadata": {},
     "output_type": "display_data"
    }
   ],
   "source": [
    "g = sns.FacetGrid(data, col=\"cluster\",  hue = \"was_pay\",  aspect=.65)\n",
    "g.map(sns.histplot, \"vis_p\")\n",
    "\n"
   ]
  },
  {
   "cell_type": "code",
   "execution_count": 9,
   "metadata": {},
   "outputs": [
    {
     "data": {
      "text/plain": [
       "<seaborn.axisgrid.FacetGrid at 0x1eb5e1e9198>"
      ]
     },
     "execution_count": 9,
     "metadata": {},
     "output_type": "execute_result"
    },
    {
     "data": {
      "image/png": "[encoded data removed]",
      "text/plain": [
       "<Figure size 655.2x252 with 4 Axes>"
      ]
     },
     "metadata": {},
     "output_type": "display_data"
    }
   ],
   "source": [
    "g = sns.FacetGrid(data, col=\"cluster\",  hue = \"was_pay\", height=3.5, aspect=.65)\n",
    "g.map(sns.histplot, \"watch_unique\")"
   ]
  },
  {
   "cell_type": "code",
   "execution_count": 10,
   "metadata": {},
   "outputs": [
    {
     "data": {
      "text/plain": [
       "<seaborn.axisgrid.FacetGrid at 0x1eb5e438518>"
      ]
     },
     "execution_count": 10,
     "metadata": {},
     "output_type": "execute_result"
    },
    {
     "data": {
      "image/png": "[encoded data removed]",
      "text/plain": [
       "<Figure size 655.2x252 with 4 Axes>"
      ]
     },
     "metadata": {},
     "output_type": "display_data"
    }
   ],
   "source": [
    "g = sns.FacetGrid(data, col=\"cluster\",  hue = \"was_pay\", height=3.5, aspect=.65)\n",
    "g.map(sns.histplot, \"duration\")"
   ]
  },
  {
   "cell_type": "code",
   "execution_count": 11,
   "metadata": {
    "scrolled": true
   },
   "outputs": [
    {
     "data": {
      "text/plain": [
       "<seaborn.axisgrid.FacetGrid at 0x1eb5fa3b978>"
      ]
     },
     "execution_count": 11,
     "metadata": {},
     "output_type": "execute_result"
    },
    {
     "data": {
      "image/png": "[encoded data removed]",
      "text/plain": [
       "<Figure size 655.2x252 with 4 Axes>"
      ]
     },
     "metadata": {},
     "output_type": "display_data"
    }
   ],
   "source": [
    "g = sns.FacetGrid(data, col=\"cluster\",  hue = \"was_pay\", height=3.5, aspect=.65)\n",
    "g.map(sns.histplot, \"q_n\")"
   ]
  },
  {
   "cell_type": "code",
   "execution_count": 12,
   "metadata": {},
   "outputs": [
    {
     "data": {
      "text/plain": [
       "<seaborn.axisgrid.FacetGrid at 0x1eb6015b6a0>"
      ]
     },
     "execution_count": 12,
     "metadata": {},
     "output_type": "execute_result"
    },
    {
     "data": {
      "image/png": "[encoded data removed]",
      "text/plain": [
       "<Figure size 655.2x252 with 4 Axes>"
      ]
     },
     "metadata": {},
     "output_type": "display_data"
    }
   ],
   "source": [
    "g = sns.FacetGrid(data, col=\"cluster\",  hue = \"was_pay\", height=3.5, aspect=.65)\n",
    "g.map(sns.histplot, \"ans_n\")"
   ]
  },
  {
   "attachments": {},
   "cell_type": "markdown",
   "metadata": {},
   "source": [
    "Видим четыре кластера:\n",
    "* 0 – меньше всех посещают форум, мало смотрят видео, задают вопросы\n",
    "* 1 - смотрят много видео, средне посещают форум, часто пишут вопросы и ответы\n",
    "* 2 - смотрят много видео, много посещают форум, на форуме не пишут\n",
    "* 3 - смотрят больше всех видео, больше всех посещают форум, быстрее всех проходят курс\n"
   ]
  },
  {
   "cell_type": "markdown",
   "metadata": {},
   "source": [
    "## Строим логистическую регрессию"
   ]
  },
  {
   "cell_type": "markdown",
   "metadata": {},
   "source": [
    "Логистическая регрессия была выбрана, поскольку зависимая переменная (была оплата или нет) имеет только два значения (да, нет)"
   ]
  },
  {
   "cell_type": "code",
   "execution_count": 13,
   "metadata": {},
   "outputs": [
    {
     "data": {
      "text/plain": [
       "LogisticRegression(C=1.0, class_weight=None, dual=False, fit_intercept=True,\n",
       "          intercept_scaling=1, max_iter=100, multi_class='ovr', n_jobs=1,\n",
       "          penalty='l2', random_state=0, solver='liblinear', tol=0.0001,\n",
       "          verbose=0, warm_start=False)"
      ]
     },
     "execution_count": 13,
     "metadata": {},
     "output_type": "execute_result"
    }
   ],
   "source": [
    "model = LogisticRegression(solver='liblinear', random_state=0)\n",
    "\n",
    "X = data[['cluster']]\n",
    "y = data['was_pay']\n",
    "model.fit(X, y)\n"
   ]
  },
  {
   "cell_type": "code",
   "execution_count": 16,
   "metadata": {},
   "outputs": [
    {
     "name": "stdout",
     "output_type": "stream",
     "text": [
      "Optimization terminated successfully.\n",
      "         Current function value: 0.666735\n",
      "         Iterations 4\n",
      "                           Logit Regression Results                           \n",
      "==============================================================================\n",
      "Dep. Variable:                was_pay   No. Observations:                 5962\n",
      "Model:                          Logit   Df Residuals:                     5961\n",
      "Method:                           MLE   Df Model:                            0\n",
      "Date:                Mon, 21 Jun 2021   Pseudo R-squ.:                 0.02160\n",
      "Time:                        22:59:18   Log-Likelihood:                -3975.1\n",
      "converged:                       True   LL-Null:                       -4062.8\n",
      "                                        LLR p-value:                       nan\n",
      "==============================================================================\n",
      "                 coef    std err          z      P>|z|      [0.025      0.975]\n",
      "------------------------------------------------------------------------------\n",
      "cluster       -0.3849      0.023    -17.067      0.000      -0.429      -0.341\n",
      "==============================================================================\n"
     ]
    }
   ],
   "source": [
    "logit_model=sm.Logit(y,X)\n",
    "result=logit_model.fit()\n",
    "print(result.summary())"
   ]
  },
  {
   "cell_type": "markdown",
   "metadata": {},
   "source": [
    "Видим, что кластеры значимо предсказывают оплату курса. Чтобы взяглнуть какой кластер влиял сильнее - сделаем график"
   ]
  },
  {
   "cell_type": "code",
   "execution_count": 15,
   "metadata": {},
   "outputs": [
    {
     "data": {
      "image/png": "[encoded data removed]",
      "text/plain": [
       "<Figure size 432x288 with 1 Axes>"
      ]
     },
     "metadata": {},
     "output_type": "display_data"
    }
   ],
   "source": [
    "pd.crosstab(data.was_pay,data.cluster).plot(kind='bar')\n",
    "plt.title('Как кластеры влияют на вероятность оплаты курса')\n",
    "plt.xlabel('Оплатил или нет')\n",
    "plt.ylabel('Частота оплаты')\n",
    "plt.savefig('was_pay_bar')\n"
   ]
  },
  {
   "cell_type": "markdown",
   "metadata": {},
   "source": [
    "Вывод: во всех кластерах кроме первого количество оплативших меньше. Первый кластер выделяет только тем, что в нем меньше всего студентов посещавших форум. "
   ]
  },
  {
   "cell_type": "code",
   "execution_count": null,
   "metadata": {},
   "outputs": [],
   "source": [
    "Возможно, чем меньше студент заходит на форум, тем больше у него шансов оплатить курс."
   ]
  }
 ],
 "metadata": {
  "kernelspec": {
   "display_name": "Python 3",
   "language": "python",
   "name": "python3"
  },
  "language_info": {
   "codemirror_mode": {
    "name": "ipython",
    "version": 3
   },
   "file_extension": ".py",
   "mimetype": "text/x-python",
   "name": "python",
   "nbconvert_exporter": "python",
   "pygments_lexer": "ipython3",
   "version": "3.6.5"
  }
 },
 "nbformat": 4,
 "nbformat_minor": 2
}
